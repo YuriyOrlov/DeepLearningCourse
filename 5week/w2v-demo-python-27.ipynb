{
 "cells": [
  {
   "cell_type": "code",
   "execution_count": 22,
   "metadata": {
    "collapsed": true
   },
   "outputs": [],
   "source": [
    "from gensim.models import Word2Vec\n",
    "from nltk.tokenize import word_tokenize\n",
    "import re\n",
    "from tqdm import tqdm\n",
    "import glob\n",
    "import os\n",
    "import io"
   ]
  },
  {
   "cell_type": "code",
   "execution_count": 3,
   "metadata": {
    "collapsed": true
   },
   "outputs": [],
   "source": [
    "tag_clean = re.compile('<[^>]*>', re.U)"
   ]
  },
  {
   "cell_type": "code",
   "execution_count": 4,
   "metadata": {
    "collapsed": false
   },
   "outputs": [
    {
     "name": "stdout",
     "output_type": "stream",
     "text": [
      "fb2-parser.py\t  README.md  vis.ipynb\t     visword2vec.pyc\r\n",
      "presentation.pdf  tolstoy    visword2vec.py  w2v-demo.ipynb\r\n"
     ]
    }
   ],
   "source": [
    "! ls"
   ]
  },
  {
   "cell_type": "code",
   "execution_count": 23,
   "metadata": {
    "collapsed": false
   },
   "outputs": [
    {
     "name": "stderr",
     "output_type": "stream",
     "text": [
      "157it [00:00, 1567.95it/s]"
     ]
    },
    {
     "name": "stdout",
     "output_type": "stream",
     "text": [
      "\n",
      "tolstoy/18_tom.fb2\n"
     ]
    },
    {
     "name": "stderr",
     "output_type": "stream",
     "text": [
      "31173it [00:02, 12654.96it/s]\n",
      "234it [00:00, 2329.45it/s]"
     ]
    },
    {
     "name": "stdout",
     "output_type": "stream",
     "text": [
      "\n",
      "tolstoy/10_tom.fb2\n"
     ]
    },
    {
     "name": "stderr",
     "output_type": "stream",
     "text": [
      "38706it [00:01, 23537.93it/s]\n",
      "214it [00:00, 2136.14it/s]"
     ]
    },
    {
     "name": "stdout",
     "output_type": "stream",
     "text": [
      "\n",
      "tolstoy/11_tom.fb2\n"
     ]
    },
    {
     "name": "stderr",
     "output_type": "stream",
     "text": [
      "43847it [00:01, 22276.86it/s]\n",
      "401it [00:00, 8061.14it/s]\n",
      "379it [00:00, 3737.60it/s]"
     ]
    },
    {
     "name": "stdout",
     "output_type": "stream",
     "text": [
      "\n",
      "tolstoy/02_tom.fb2\n",
      "\n",
      "tolstoy/01_tom.fb2\n"
     ]
    },
    {
     "name": "stderr",
     "output_type": "stream",
     "text": [
      "70405it [00:01, 53411.13it/s]\n"
     ]
    }
   ],
   "source": [
    "sentences = []\n",
    "for file in glob.glob(os.path.join(\"tolstoy\", '*.fb2'))[2:6] + [glob.glob(os.path.join(\"tolstoy\", '*.fb2'))[-2]]:\n",
    "    print('\\n' + file)\n",
    "    with io.open(file, encoding='utf-8') as f:\n",
    "        for line in tqdm(f):\n",
    "            stripped = line.strip()\n",
    "            if stripped[:3] == '<p>' and stripped[-4:] == '</p>':\n",
    "                stripped = tag_clean.sub('', stripped)\n",
    "                temp = stripped.split(\".\")\n",
    "                for t in temp:\n",
    "                    sentences.append(word_tokenize(t.lower()))"
   ]
  },
  {
   "cell_type": "code",
   "execution_count": 54,
   "metadata": {
    "collapsed": false
   },
   "outputs": [
    {
     "name": "stdout",
     "output_type": "stream",
     "text": [
      "такой\n",
      "честный\n",
      ",\n",
      "дельный\n",
      "человек\n",
      "семенов\n",
      ",\n",
      "чагин\n",
      ",\n",
      "сигонин\n",
      ",\n",
      "—\n",
      "вспоминал\n",
      "алексей\n",
      "александрович\n",
      "—\n",
      "положим\n",
      ",\n",
      "какой-то\n",
      "неразумный\n",
      "ridicule\n",
      "[\n",
      "34\n",
      "]\n",
      "падает\n",
      "на\n",
      "этих\n",
      "людей\n",
      ",\n",
      "но\n",
      "я\n",
      "никогда\n",
      "не\n",
      "видел\n",
      "в\n",
      "этом\n",
      "ничего\n",
      ",\n",
      "кроме\n",
      "несчастия\n",
      ",\n",
      "и\n",
      "всегда\n",
      "сочувствовал\n",
      "ему»\n",
      ",\n",
      "сказал\n",
      "себе\n",
      "алексей\n",
      "александрович\n",
      ",\n",
      "хотя\n",
      "это\n",
      "и\n",
      "было\n",
      "неправда\n",
      ",\n",
      "и\n",
      "он\n",
      "никогда\n",
      "не\n",
      "сочувствовал\n",
      "несчастиям\n",
      "этого\n",
      "рода\n",
      ",\n",
      "а\n",
      "тем\n",
      "выше\n",
      "ценил\n",
      "себя\n",
      ",\n",
      "чем\n",
      "чаще\n",
      "были\n",
      "примеры\n",
      "жен\n",
      ",\n",
      "изменяющих\n",
      "своим\n",
      "мужьям\n",
      "«это\n",
      "несчастие\n",
      ",\n",
      "которое\n",
      "может\n",
      "постигнуть\n",
      "всякого\n",
      "и\n",
      "это\n",
      "несчастие\n",
      "постигло\n",
      "меня\n",
      "дело\n",
      "только\n",
      "в\n",
      "том\n",
      ",\n",
      "как\n",
      "наилучшим\n",
      "образом\n",
      "перенести\n",
      "это\n",
      "положение»\n",
      "и\n",
      "он\n",
      "стал\n",
      "перебирать\n",
      "подробности\n",
      "образа\n",
      "действий\n",
      "людей\n",
      ",\n",
      "находившихся\n",
      "в\n",
      "таком\n",
      "же\n",
      ",\n",
      "как\n",
      "и\n",
      "он\n",
      ",\n",
      "положении\n"
     ]
    }
   ],
   "source": [
    "for item in sentences[10000:10010]:\n",
    "    for word in item:\n",
    "        print word"
   ]
  },
  {
   "cell_type": "code",
   "execution_count": 55,
   "metadata": {
    "collapsed": true
   },
   "outputs": [],
   "source": [
    "model = Word2Vec(sentences)"
   ]
  },
  {
   "cell_type": "code",
   "execution_count": 56,
   "metadata": {
    "collapsed": false
   },
   "outputs": [
    {
     "data": {
      "text/plain": [
       "array([  1.99759919e-02,   5.04273772e-02,  -1.79572369e-03,\n",
       "        -7.58300796e-02,  -8.39738399e-02,   9.96436086e-03,\n",
       "         5.65911196e-02,   6.60271337e-03,  -9.53208655e-02,\n",
       "         9.99011938e-03,  -4.43328172e-02,  -1.17946034e-02,\n",
       "         7.68901780e-03,  -2.22536735e-03,   5.71694858e-02,\n",
       "         1.45088071e-02,  -1.07676864e-01,  -1.28130056e-02,\n",
       "         1.90999731e-02,   7.78290331e-02,   2.98277428e-03,\n",
       "         7.08338246e-02,   5.10120951e-03,  -3.48881818e-02,\n",
       "         3.85373868e-02,  -5.54012880e-02,  -2.42211856e-02,\n",
       "         4.38949540e-02,  -3.40140611e-02,   1.06234506e-01,\n",
       "        -3.40292566e-02,  -1.15907023e-04,   9.03233588e-02,\n",
       "        -9.88675430e-02,  -1.89621039e-02,   3.06632873e-02,\n",
       "         4.10384834e-02,   9.89980623e-03,   2.86325160e-02,\n",
       "         4.41613384e-02,   9.55089778e-02,   1.13384940e-01,\n",
       "        -1.08631970e-02,   1.16617478e-01,   3.65559049e-02,\n",
       "         2.72437232e-03,   7.41337612e-02,   7.22934678e-03,\n",
       "        -7.01755937e-03,  -1.21036172e-01,  -4.14889939e-02,\n",
       "        -3.35722677e-02,   1.14977531e-01,  -3.60875949e-02,\n",
       "        -1.17111817e-01,   3.16536613e-02,  -2.67409906e-02,\n",
       "         8.05338379e-03,  -2.46801209e-02,   5.88120800e-03,\n",
       "         8.18905905e-02,  -1.98357925e-02,   1.01639405e-01,\n",
       "         4.70603211e-03,  -8.12282413e-02,  -4.61685061e-02,\n",
       "         1.96760111e-02,  -2.13240981e-02,   1.57155693e-02,\n",
       "        -4.21544462e-02,  -6.65781423e-02,  -7.10883290e-02,\n",
       "         7.35806897e-02,  -6.27646595e-02,  -1.13922298e-01,\n",
       "         2.95291804e-02,  -7.86323193e-03,   2.46531051e-02,\n",
       "        -3.70746851e-02,   5.02497852e-02,  -6.50901049e-02,\n",
       "        -2.75611188e-02,  -5.55228256e-02,   1.40444413e-02,\n",
       "        -3.20233628e-02,  -1.74611006e-02,   7.05699576e-03,\n",
       "        -7.69878402e-02,  -3.87520194e-02,  -6.55046478e-02,\n",
       "        -5.64773902e-02,   1.59888454e-02,   4.45935354e-02,\n",
       "        -6.36505522e-03,   6.51303679e-02,   7.72866830e-02,\n",
       "         1.35460636e-02,  -9.26480964e-02,  -1.25880495e-01,\n",
       "         5.79351820e-02], dtype=float32)"
      ]
     },
     "execution_count": 56,
     "metadata": {},
     "output_type": "execute_result"
    }
   ],
   "source": [
    "model[u\"спасибо\"]"
   ]
  },
  {
   "cell_type": "code",
   "execution_count": 61,
   "metadata": {
    "collapsed": false
   },
   "outputs": [
    {
     "name": "stdout",
     "output_type": "stream",
     "text": [
      "отлично 0.989048063755\n",
      "пора 0.986842811108\n",
      "слышишь 0.984793424606\n",
      "сударыня 0.984719753265\n",
      "поди 0.98351085186\n",
      "пожалуста 0.981916069984\n",
      "прелесть 0.9809679389\n",
      "ваш 0.980566680431\n",
      "пускай 0.98020195961\n",
      "сюда 0.980137825012\n"
     ]
    }
   ],
   "source": [
    "for item in model.most_similar(u\"спасибо\"):\n",
    "    print item[0] + ' ' + str(item [1])"
   ]
  },
  {
   "cell_type": "code",
   "execution_count": 65,
   "metadata": {
    "collapsed": false
   },
   "outputs": [
    {
     "name": "stdout",
     "output_type": "stream",
     "text": [
      "левин 0.960820674896\n",
      "вронский 0.958079695702\n",
      "он 0.941014885902\n",
      "ростов 0.897860705853\n",
      "наполеон 0.855526447296\n",
      "николай 0.844838440418\n",
      "александрович 0.834840714931\n",
      "алексей 0.82492017746\n",
      "долохов 0.774837374687\n",
      "сжег 0.772248327732\n",
      "повернув 0.768317341805\n",
      "что-то 0.758995652199\n",
      "старик 0.756859242916\n",
      "князь 0.755759119987\n",
      "этот 0.75521838665\n",
      "денисов 0.753717541695\n",
      "кутузов 0.751850962639\n",
      "доктор 0.748946428299\n",
      "ополченец 0.74147439003\n",
      "пасьянс 0.735669076443\n"
     ]
    }
   ],
   "source": [
    "for item in model.most_similar(u\"пьер\", topn=20):\n",
    "    print item[0] + ' ' + str(item [1])"
   ]
  },
  {
   "cell_type": "code",
   "execution_count": 66,
   "metadata": {
    "collapsed": false
   },
   "outputs": [
    {
     "name": "stdout",
     "output_type": "stream",
     "text": [
      "туровцын 0.978577256203\n",
      "нежный 0.977931022644\n",
      "пріѣхалъ 0.977435946465\n",
      "вскрикнул 0.977167785168\n",
      "андреевич 0.976486563683\n",
      "подойди 0.976047039032\n",
      "ругай 0.975751399994\n",
      "егор 0.974336981773\n",
      "подхватил 0.972422599792\n",
      "заговорила 0.972405552864\n"
     ]
    }
   ],
   "source": [
    "for item in model.most_similar(u\"безухов\"):\n",
    "    print item[0] + ' ' + str(item [1])"
   ]
  },
  {
   "cell_type": "code",
   "execution_count": 67,
   "metadata": {
    "collapsed": false
   },
   "outputs": [
    {
     "data": {
      "text/plain": [
       "0.51338962815280198"
      ]
     },
     "execution_count": 67,
     "metadata": {},
     "output_type": "execute_result"
    }
   ],
   "source": [
    "model.similarity(u\"пьер\", u\"безухов\")"
   ]
  },
  {
   "cell_type": "code",
   "execution_count": 68,
   "metadata": {
    "collapsed": false
   },
   "outputs": [
    {
     "data": {
      "text/plain": [
       "0.69914190572306367"
      ]
     },
     "execution_count": 68,
     "metadata": {},
     "output_type": "execute_result"
    }
   ],
   "source": [
    "model.similarity(u\"пьер\", u\"наташа\")"
   ]
  },
  {
   "cell_type": "code",
   "execution_count": 69,
   "metadata": {
    "collapsed": false
   },
   "outputs": [
    {
     "data": {
      "text/plain": [
       "0.49933162658488894"
      ]
     },
     "execution_count": 69,
     "metadata": {},
     "output_type": "execute_result"
    }
   ],
   "source": [
    "model.similarity(u\"наташа\", u\"ростова\")"
   ]
  },
  {
   "cell_type": "code",
   "execution_count": 108,
   "metadata": {
    "collapsed": false
   },
   "outputs": [
    {
     "data": {
      "text/plain": [
       "73562"
      ]
     },
     "execution_count": 108,
     "metadata": {},
     "output_type": "execute_result"
    }
   ],
   "source": [
    "len(sentences)"
   ]
  },
  {
   "cell_type": "code",
   "execution_count": null,
   "metadata": {
    "collapsed": true
   },
   "outputs": [],
   "source": []
  }
 ],
 "metadata": {
  "anaconda-cloud": {},
  "kernelspec": {
   "display_name": "Python 2",
   "language": "python",
   "name": "python2"
  },
  "language_info": {
   "codemirror_mode": {
    "name": "ipython",
    "version": 2
   },
   "file_extension": ".py",
   "mimetype": "text/x-python",
   "name": "python",
   "nbconvert_exporter": "python",
   "pygments_lexer": "ipython2",
   "version": "2.7.12"
  }
 },
 "nbformat": 4,
 "nbformat_minor": 0
}
